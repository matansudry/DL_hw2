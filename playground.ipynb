{
 "cells": [
  {
   "cell_type": "code",
   "execution_count": 26,
   "metadata": {},
   "outputs": [
    {
     "name": "stdout",
     "output_type": "stream",
     "text": [
      "The autoreload extension is already loaded. To reload it, use:\n",
      "  %reload_ext autoreload\n"
     ]
    }
   ],
   "source": [
    "import torch\n",
    "import hydra\n",
    "\n",
    "from train import train\n",
    "from dataset import MyDataset, CocoImages\n",
    "from models.base_model import MyModel\n",
    "from torch.utils.data import DataLoader\n",
    "from utils import main_utils, train_utils#, data_loader\n",
    "from utils.train_logger import TrainLogger\n",
    "from omegaconf import DictConfig, OmegaConf\n",
    "import os\n",
    "\n",
    "import pickle\n",
    "\n",
    "import time\n",
    "import torch\n",
    "import torch.nn as nn\n",
    "\n",
    "from tqdm import tqdm\n",
    "from utils.types import Scores, Metrics\n",
    "from utils.train_utils import TrainParams\n",
    "from utils.train_logger import TrainLogger\n",
    "%matplotlib inline\n",
    "%load_ext autoreload\n",
    "%autoreload 2"
   ]
  },
  {
   "cell_type": "code",
   "execution_count": null,
   "metadata": {},
   "outputs": [
    {
     "name": "stdout",
     "output_type": "stream",
     "text": [
      "current dict =  /mnt/d/Google Drive/Academic/Second_degree/Semester G/Deep Learning/HW/DL_hw2\n",
      "files upload was done\n",
      "questions done\n",
      "questions dict done\n",
      "question_id_to_image_id done\n"
     ]
    },
    {
     "name": "stderr",
     "output_type": "stream",
     "text": [
      "  0%|          | 2/443757 [00:00<6:55:07, 17.82it/s]"
     ]
    },
    {
     "name": "stdout",
     "output_type": "stream",
     "text": [
      "answers done\n",
      "images done\n",
      "coco_images_to_dict done\n"
     ]
    },
    {
     "name": "stderr",
     "output_type": "stream",
     "text": [
      "  3%|▎         | 14646/443757 [08:13<5:14:18, 22.75it/s] "
     ]
    }
   ],
   "source": [
    "torch.backends.cudnn.benchmark = True\n",
    "\n",
    "\n",
    "print(\"current dict = \", os.getcwd())\n",
    "\"\"\"\n",
    "Run the code following a given configuration\n",
    ":param cfg: configuration file retrieved from hydra framework\n",
    "\"\"\"\n",
    "# # main_utils.init(cfg)\n",
    "# logger = TrainLogger(exp_name_prefix=cfg['main']['experiment_name_prefix'], logs_dir=cfg['main']['paths']['logs'])\n",
    "# print(logger)\n",
    "# logger.write(OmegaConf.to_yaml(cfg))\n",
    "\n",
    "# # Set seed for results reproduction\n",
    "# main_utils.set_seed(cfg['main']['seed'])\n",
    "\n",
    "# Load dataset\n",
    "train_dataset = MyDataset(image_path='../../../datashare/train2014',\n",
    "                          questions_path='../../../datashare/v2_OpenEnded_mscoco_train2014_questions.json',\n",
    "                          answers_path='../../../datashare/v2_mscoco_train2014_annotations.json',\n",
    "                          train=True,\n",
    "                          answerable_only = False\n",
    "                         )\n",
    "# val_dataset = MyDataset(image_path='../../../datashare/val2014',\n",
    "#                           questions_path='../../../datashare/v2_OpenEnded_mscoco_val2014_questions.json',\n",
    "#                           answers_path='../../../datashare/v2_mscoco_val2014_annotations.json',\n",
    "#                           train=False,\n",
    "#                           answerable_only = False\n",
    "#                          )\n",
    "\n",
    "\n",
    "train_loader = DataLoader(train_dataset, 128, shuffle=True,\n",
    "                          num_workers=8)\n",
    "# eval_loader = DataLoader(val_dataset, 128, shuffle=False,\n",
    "#                          num_workers=8)\n",
    " \n",
    "\n",
    "\n",
    "# Init model\n",
    "image_in_size_input = ((3,224,224))\n",
    "img_encoder_channels_input = [32, 128, 512, 1024]\n",
    "# model = MyModel(image_in_size=image_in_size_input,\n",
    "#     img_encoder_out_classes=1024,\n",
    "#     img_encoder_channels=img_encoder_channels_input,\n",
    "#     img_encoder_batchnorm=True,\n",
    "#     img_encoder_dropout=0.5,\n",
    "#     text_embedding_tokens=15193,\n",
    "#     text_embedding_features=100,\n",
    "#     text_lstm_features=512,\n",
    "#     text_dropout=0.5,\n",
    "#     attention_mid_features=128,\n",
    "#     attention_glimpses=2,\n",
    "#     attention_dropout=0.5,\n",
    "#     classifier_dropout=0.5,\n",
    "#     classifier_mid_features=128,\n",
    "#     classifier_out_classes=2410,\n",
    "#     )\n",
    "\n",
    "\n",
    "\n",
    "# if cfg['main']['parallel']:\n",
    "#     model = torch.nn.DataParallel(model)\n",
    "\n",
    "# if torch.cuda.is_available():\n",
    "# torch.cuda.empty_cache()\n",
    "# model = model.cuda()\n",
    "\n",
    "# logger.write(main_utils.get_model_string(model))\n",
    "\n",
    "# Run model\n",
    "# train_params = train_utils.get_train_params(cfg)\n",
    "\n",
    "# Report metrics and hyper parameters to tensorboard\n",
    "\n",
    "\n",
    "# metrics = train(model, train_loader, eval_loader, train_params, logger)\n",
    "# hyper_parameters = main_utils.get_flatten_dict(cfg['train'])\n",
    "\n",
    "# logger.report_metrics_hyper_params(hyper_parameters, metrics)"
   ]
  },
  {
   "cell_type": "code",
   "execution_count": null,
   "metadata": {},
   "outputs": [],
   "source": [
    "for img, ans, ques, _, q_len in tqdm(train_loader):\n",
    "    if torch.cuda.is_available():\n",
    "        img = img.cuda()\n",
    "        ans = ans.cuda()\n",
    "        ques = ques.cuda()\n",
    "        q_len = q_len.cuda()"
   ]
  },
  {
   "cell_type": "code",
   "execution_count": null,
   "metadata": {},
   "outputs": [],
   "source": [
    "train_loader.images"
   ]
  },
  {
   "cell_type": "code",
   "execution_count": 13,
   "metadata": {},
   "outputs": [],
   "source": [
    "with open(\"../data/images_train\", 'rb') as handle:\n",
    "    images = pickle.load(handle)\n",
    "images = images[0]"
   ]
  },
  {
   "cell_type": "code",
   "execution_count": 15,
   "metadata": {},
   "outputs": [
    {
     "data": {
      "text/plain": [
       "(404, tensor([[[-0.7308, -0.7308, -0.7650,  ..., -0.5082, -0.5082, -0.4911],\n",
       "          [-0.7308, -0.7308, -0.7650,  ..., -0.4911, -0.4911, -0.4911],\n",
       "          [-0.7479, -0.7308, -0.7308,  ..., -0.4739, -0.4739, -0.4739],\n",
       "          ...,\n",
       "          [-1.3302, -1.3473, -1.3473,  ..., -1.2959, -1.3130, -1.3130],\n",
       "          [-1.3987, -1.3644, -1.3302,  ..., -1.4500, -1.3815, -1.3473],\n",
       "          [-1.5357, -1.4329, -1.5014,  ..., -1.3644, -1.3473, -1.3473]],\n",
       " \n",
       "         [[ 0.4153,  0.4153,  0.3978,  ...,  0.5728,  0.5728,  0.5728],\n",
       "          [ 0.4153,  0.4153,  0.3978,  ...,  0.5903,  0.6078,  0.6078],\n",
       "          [ 0.3978,  0.4153,  0.4153,  ...,  0.6078,  0.6254,  0.6254],\n",
       "          ...,\n",
       "          [-0.8102, -0.8452, -0.8803,  ..., -0.8277, -0.9328, -0.8102],\n",
       "          [-0.9328, -0.8978, -0.8627,  ..., -0.9853, -0.9153, -0.8452],\n",
       "          [-1.0378, -0.9678, -0.9678,  ..., -0.7402, -0.7752, -0.7927]],\n",
       " \n",
       "         [[ 1.3677,  1.3677,  1.3502,  ...,  1.4722,  1.4722,  1.4722],\n",
       "          [ 1.3502,  1.3502,  1.3502,  ...,  1.4722,  1.4722,  1.4722],\n",
       "          [ 1.3154,  1.3328,  1.3677,  ...,  1.4897,  1.4897,  1.4897],\n",
       "          ...,\n",
       "          [-0.3055, -0.2881, -0.3404,  ..., -0.3578, -0.4798, -0.2707],\n",
       "          [-0.3753, -0.3578, -0.3578,  ..., -0.4101, -0.3578, -0.2881],\n",
       "          [-0.5321, -0.4450, -0.4275,  ..., -0.1312, -0.0964, -0.0964]]]))"
      ]
     },
     "execution_count": 15,
     "metadata": {},
     "output_type": "execute_result"
    }
   ],
   "source": [
    "images[50]"
   ]
  },
  {
   "cell_type": "code",
   "execution_count": 6,
   "metadata": {},
   "outputs": [
    {
     "data": {
      "text/plain": [
       "tensor([[[ 0.4679, -0.3712, -1.3473,  ...,  1.6667,  1.7009,  1.7180],\n",
       "         [ 0.0398,  0.5707, -0.1828,  ...,  1.7009,  1.7180,  1.7352],\n",
       "         [-0.3541,  0.5707,  0.8447,  ...,  1.7180,  1.7180,  1.7180],\n",
       "         ...,\n",
       "         [ 0.4508,  0.7591,  1.0159,  ...,  0.6734,  0.7762,  0.7419],\n",
       "         [ 0.7591,  1.0331,  0.7077,  ...,  0.8961,  0.9132,  1.1015],\n",
       "         [ 1.2557,  1.0844,  0.8447,  ...,  1.1358,  1.0673,  1.0502]],\n",
       "\n",
       "        [[ 0.0126, -0.7402, -1.4405,  ...,  2.0084,  1.9909,  1.9909],\n",
       "         [-0.1800,  0.3102, -0.4601,  ...,  2.0259,  2.0259,  2.0259],\n",
       "         [-0.4601,  0.3803,  0.5028,  ...,  2.0434,  2.0434,  2.0434],\n",
       "         ...,\n",
       "         [ 0.2577,  0.5028,  0.7829,  ...,  0.5553,  0.6429,  0.6254],\n",
       "         [ 0.5028,  0.7129,  0.4853,  ...,  0.7129,  0.6779,  0.8354],\n",
       "         [ 0.7304,  0.5728,  0.3102,  ...,  0.8354,  0.7829,  0.7654]],\n",
       "\n",
       "        [[-0.8110, -1.3164, -1.6127,  ...,  2.3786,  2.3611,  2.3437],\n",
       "         [-1.1944, -0.8284, -1.2119,  ...,  2.3960,  2.3786,  2.3786],\n",
       "         [-1.4733, -0.7936, -0.3927,  ...,  2.4134,  2.3960,  2.3786],\n",
       "         ...,\n",
       "         [-0.5670, -0.4973, -0.2707,  ..., -0.6193, -0.5147, -0.5670],\n",
       "         [-0.4973, -0.3404, -0.4973,  ..., -0.4275, -0.4973, -0.3753],\n",
       "         [-0.0615, -0.1835, -0.3753,  ..., -0.2881, -0.3753, -0.3927]]])"
      ]
     },
     "execution_count": 6,
     "metadata": {},
     "output_type": "execute_result"
    }
   ],
   "source": [
    "images[0][1][1]"
   ]
  },
  {
   "cell_type": "code",
   "execution_count": 7,
   "metadata": {},
   "outputs": [],
   "source": [
    "images = images[0]"
   ]
  },
  {
   "cell_type": "code",
   "execution_count": 8,
   "metadata": {},
   "outputs": [
    {
     "data": {
      "text/plain": [
       "tensor([[[ 0.4679, -0.3712, -1.3473,  ...,  1.6667,  1.7009,  1.7180],\n",
       "         [ 0.0398,  0.5707, -0.1828,  ...,  1.7009,  1.7180,  1.7352],\n",
       "         [-0.3541,  0.5707,  0.8447,  ...,  1.7180,  1.7180,  1.7180],\n",
       "         ...,\n",
       "         [ 0.4508,  0.7591,  1.0159,  ...,  0.6734,  0.7762,  0.7419],\n",
       "         [ 0.7591,  1.0331,  0.7077,  ...,  0.8961,  0.9132,  1.1015],\n",
       "         [ 1.2557,  1.0844,  0.8447,  ...,  1.1358,  1.0673,  1.0502]],\n",
       "\n",
       "        [[ 0.0126, -0.7402, -1.4405,  ...,  2.0084,  1.9909,  1.9909],\n",
       "         [-0.1800,  0.3102, -0.4601,  ...,  2.0259,  2.0259,  2.0259],\n",
       "         [-0.4601,  0.3803,  0.5028,  ...,  2.0434,  2.0434,  2.0434],\n",
       "         ...,\n",
       "         [ 0.2577,  0.5028,  0.7829,  ...,  0.5553,  0.6429,  0.6254],\n",
       "         [ 0.5028,  0.7129,  0.4853,  ...,  0.7129,  0.6779,  0.8354],\n",
       "         [ 0.7304,  0.5728,  0.3102,  ...,  0.8354,  0.7829,  0.7654]],\n",
       "\n",
       "        [[-0.8110, -1.3164, -1.6127,  ...,  2.3786,  2.3611,  2.3437],\n",
       "         [-1.1944, -0.8284, -1.2119,  ...,  2.3960,  2.3786,  2.3786],\n",
       "         [-1.4733, -0.7936, -0.3927,  ...,  2.4134,  2.3960,  2.3786],\n",
       "         ...,\n",
       "         [-0.5670, -0.4973, -0.2707,  ..., -0.6193, -0.5147, -0.5670],\n",
       "         [-0.4973, -0.3404, -0.4973,  ..., -0.4275, -0.4973, -0.3753],\n",
       "         [-0.0615, -0.1835, -0.3753,  ..., -0.2881, -0.3753, -0.3927]]])"
      ]
     },
     "execution_count": 8,
     "metadata": {},
     "output_type": "execute_result"
    }
   ],
   "source": [
    "images[1][1]"
   ]
  },
  {
   "cell_type": "code",
   "execution_count": null,
   "metadata": {},
   "outputs": [],
   "source": []
  }
 ],
 "metadata": {
  "kernelspec": {
   "display_name": "matan_env",
   "language": "python",
   "name": "matan_env"
  },
  "language_info": {
   "codemirror_mode": {
    "name": "ipython",
    "version": 3
   },
   "file_extension": ".py",
   "mimetype": "text/x-python",
   "name": "python",
   "nbconvert_exporter": "python",
   "pygments_lexer": "ipython3",
   "version": "3.7.4"
  }
 },
 "nbformat": 4,
 "nbformat_minor": 4
}

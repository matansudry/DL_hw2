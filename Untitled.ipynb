{
 "cells": [
  {
   "cell_type": "code",
   "execution_count": 6,
   "metadata": {},
   "outputs": [],
   "source": [
    "\"\"\"\n",
    "Main file\n",
    "We will run the whole program from here\n",
    "\"\"\"\n",
    "\n",
    "import torch\n",
    "import hydra\n",
    "\n",
    "from train import train\n",
    "from dataset import MyDataset, CocoImages\n",
    "from models.base_model import MyModel\n",
    "from torch.utils.data import DataLoader\n",
    "from utils import main_utils, train_utils, data_loader\n",
    "from utils.train_logger import TrainLogger\n",
    "from omegaconf import DictConfig, OmegaConf\n",
    "import os\n",
    "\n",
    "\n",
    "torch.backends.cudnn.benchmark = True"
   ]
  },
  {
   "cell_type": "code",
   "execution_count": 7,
   "metadata": {},
   "outputs": [],
   "source": [
    "@hydra.main(config_path=\"config\", config_name='config')\n",
    "def main(cfg: DictConfig) -> None:\n",
    "    print(\"current dict = \", os.getcwd())\n",
    "    \"\"\"\n",
    "    Run the code following a given configuration\n",
    "    :param cfg: configuration file retrieved from hydra framework\n",
    "    \"\"\"\n",
    "    main_utils.init(cfg)\n",
    "    logger = TrainLogger(exp_name_prefix=cfg['main']['experiment_name_prefix'], logs_dir=cfg['main']['paths']['logs'])\n",
    "    print(logger)\n",
    "    logger.write(OmegaConf.to_yaml(cfg))\n",
    "\n",
    "    # Set seed for results reproduction\n",
    "    main_utils.set_seed(cfg['main']['seed'])\n",
    "\n",
    "    # Load dataset\n",
    "    train_dataset = MyDataset(image_path='../../../datashare/train2014',\n",
    "                              questions_path='../../../datashare/v2_OpenEnded_mscoco_train2014_questions.json',\n",
    "                              answers_path='../../../datashare/v2_mscoco_train2014_annotations.json',\n",
    "                              train=True,\n",
    "                              answerable_only = False\n",
    "                             )\n",
    "    train_dataset = MyDataset(image_path='../../../datashare/val2014',\n",
    "                              questions_path='../../../datashare/v2_OpenEnded_mscoco_val2014_questions.json',\n",
    "                              answers_path='../../../datashare/v2_mscoco_val2014_annotations.json',\n",
    "                              train=False,\n",
    "                              answerable_only = False\n",
    "                             )\n",
    "\n",
    "    train_loader = DataLoader(train_dataset, cfg['train']['batch_size'], shuffle=True,\n",
    "                              num_workers=cfg['main']['num_workers'])\n",
    "    eval_loader = DataLoader(val_dataset, cfg['train']['batch_size'], shuffle=True,\n",
    "                             num_workers=cfg['main']['num_workers'])\n",
    "\n",
    "    # Init model\n",
    "    model = MyModel()#(num_hid=cfg['train']['num_hid'], dropout=cfg['train']['dropout'])\n",
    "\n",
    "    # TODO: Add gpus_to_use\n",
    "    if cfg['main']['parallel']:\n",
    "        model = torch.nn.DataParallel(model)\n",
    "\n",
    "    if torch.cuda.is_available():\n",
    "        model = model.cuda()\n",
    "\n",
    "    logger.write(main_utils.get_model_string(model))\n",
    "\n",
    "    # Run model\n",
    "    train_params = train_utils.get_train_params(cfg)\n",
    "\n",
    "    # Report metrics and hyper parameters to tensorboard\n",
    "    metrics = train(model, train_loader, eval_loader, train_params, logger)\n",
    "    hyper_parameters = main_utils.get_flatten_dict(cfg['train'])\n",
    "\n",
    "    logger.report_metrics_hyper_params(hyper_parameters, metrics)"
   ]
  },
  {
   "cell_type": "code",
   "execution_count": null,
   "metadata": {},
   "outputs": [],
   "source": []
  },
  {
   "cell_type": "code",
   "execution_count": 8,
   "metadata": {},
   "outputs": [
    {
     "name": "stderr",
     "output_type": "stream",
     "text": [
      "usage: ipykernel_launcher.py [--help] [--hydra-help] [--version] [--cfg {job,hydra,all}] [--package PACKAGE] [--run] [--multirun] [--shell-completion] [--config-path CONFIG_PATH] [--config-name CONFIG_NAME] [--config-dir CONFIG_DIR]\n",
      "                             [--info]\n",
      "                             [overrides [overrides ...]]\n",
      "ipykernel_launcher.py: error: unrecognized arguments: -f\n"
     ]
    },
    {
     "ename": "SystemExit",
     "evalue": "2",
     "output_type": "error",
     "traceback": [
      "An exception has occurred, use %tb to see the full traceback.\n",
      "\u001b[0;31mSystemExit\u001b[0m\u001b[0;31m:\u001b[0m 2\n"
     ]
    },
    {
     "name": "stderr",
     "output_type": "stream",
     "text": [
      "/home/student/.conda/envs/cs236781-hw/lib/python3.8/site-packages/IPython/core/interactiveshell.py:3426: UserWarning: To exit: use 'exit', 'quit', or Ctrl-D.\n",
      "  warn(\"To exit: use 'exit', 'quit', or Ctrl-D.\", stacklevel=1)\n"
     ]
    }
   ],
   "source": [
    "if __name__ == '__main__':\n",
    "    main()"
   ]
  },
  {
   "cell_type": "code",
   "execution_count": null,
   "metadata": {},
   "outputs": [],
   "source": []
  }
 ],
 "metadata": {
  "kernelspec": {
   "display_name": "CS_env",
   "language": "python",
   "name": "cs_env"
  },
  "language_info": {
   "codemirror_mode": {
    "name": "ipython",
    "version": 3
   },
   "file_extension": ".py",
   "mimetype": "text/x-python",
   "name": "python",
   "nbconvert_exporter": "python",
   "pygments_lexer": "ipython3",
   "version": "3.8.6"
  }
 },
 "nbformat": 4,
 "nbformat_minor": 4
}
